{
 "cells": [
  {
   "cell_type": "markdown",
   "metadata": {},
   "source": [
    "# Welcome!\n",
    "\n",
    "We've got some issues we want to resolve.\n",
    "\n",
    "- [ ] First, we need to fix the data itself. Right now, there are invalid values for some data points (zero or negative) which get pruned off. Because of this, all of the ANOVAs are throwing errors about unbalanced data. We should remove `type = 1` for all `ezANOVA` calls once this is done.\n",
    "- [ ] Second, we should gather all that data into a readable format that can be placed into the python graph for \"Massive Plot of All Benchmarks Distinguishing OSs, averaging ALL videos and kernel sizes\""
   ]
  },
  {
   "cell_type": "markdown",
   "metadata": {
    "id": "rB6K9feemwG9"
   },
   "source": [
    "# Getting Started\n",
    "\n",
    "In this section, we import the necessary packages and load/transform our data."
   ]
  },
  {
   "cell_type": "code",
   "execution_count": 79,
   "metadata": {
    "colab": {
     "base_uri": "https://localhost:8080/"
    },
    "id": "Zn55e2apLaDz",
    "outputId": "4dca3182-5329-45ca-dcbe-be0b5f2a48b4"
   },
   "outputs": [
    {
     "name": "stdout",
     "output_type": "stream",
     "text": [
      "The rpy2.ipython extension is already loaded. To reload it, use:\n",
      "  %reload_ext rpy2.ipython\n"
     ]
    }
   ],
   "source": [
    "import matplotlib.pyplot as plt\n",
    "import numpy as np\n",
    "import math\n",
    "import pandas as pd\n",
    "import seaborn as sns\n",
    "\n",
    "# For adding R code to the notebook\n",
    "import rpy2\n",
    "%load_ext rpy2.ipython"
   ]
  },
  {
   "cell_type": "markdown",
   "metadata": {
    "id": "U-r3n4qWR5fr"
   },
   "source": [
    "First, we load in the Docker and native data into arrays of pandas dataframes."
   ]
  },
  {
   "cell_type": "code",
   "execution_count": 80,
   "metadata": {
    "colab": {
     "base_uri": "https://localhost:8080/"
    },
    "id": "ZgZLwR-SQ5If",
    "outputId": "1de0154e-aa73-4b19-e63d-df779fe243c3"
   },
   "outputs": [],
   "source": [
    "docker_dfs = []\n",
    "native_dfs = []\n",
    "\n",
    "# EDIT THESE TWO ARRAYS TO ADD YOUR TEST DATA\n",
    "folders = ['GZ__Ubuntu__Xeon_E3-1290_V2_3.7GHz_x8__8GB_RAM', 'linux-lt215', 'linux-loaner002', 'GZ__Mac__i9_2.3GHz_x8__16GB_RAM', 'osx-macmini180', 'windows-lt215', 'windows-loaner002']\n",
    "devices = ['Ubuntu 1', 'Ubuntu 2', 'Ubuntu 3', 'Mac 1', 'Mac 2', 'Windows 1', 'Windows 2']\n",
    "oss = ['Ubuntu', 'Ubuntu', 'Ubuntu', 'macOS', 'macOS', 'Windows', 'Windows']\n",
    "\n",
    "for idx, f in enumerate(folders):\n",
    "  docker_dfs += [[]] # Append empty list\n",
    "  native_dfs += [[]]\n",
    "  for i in range(10):\n",
    "    docker_dfs[idx] += [pd.read_csv(f'../data/{f}/docker-{i}.csv')]\n",
    "    native_dfs[idx] += [pd.read_csv(f'../data/{f}/native-{i}.csv')]"
   ]
  },
  {
   "cell_type": "markdown",
   "metadata": {
    "id": "PWyxWsfTFFOe"
   },
   "source": [
    "Next, we combine and reorganize the dataframes into the format below. This format makes it easy to manipulate.\n",
    "\n",
    "| Device                | Condition | Batch | Run | Benchmark | Source Video | Image Path | Kernel Width (# pixels) | Time Elapsed (milliseconds) | CPU Usage (% of CPU) | Memory Usage (% of memory) |\n",
    "|-----------------------|-----------|-------|-----|-----------|--------------|------------|-------------------------|-----------------------------|----------------------|----------------------------|\n",
    "| Macbook Pro 16 (2019) | Docker    | 1     | 1   | resize    | Video 1      | ./path     | 3                       | 55.213                      | 25.0                 | 9.1                        |"
   ]
  },
  {
   "cell_type": "code",
   "execution_count": 81,
   "metadata": {
    "colab": {
     "base_uri": "https://localhost:8080/"
    },
    "id": "zzJUrc6cHc_-",
    "outputId": "781a98e7-efdc-4c56-b076-20d9f5c225dc"
   },
   "outputs": [
    {
     "name": "stdout",
     "output_type": "stream",
     "text": [
      "The following benchmarks have missing values because of negative numbers: {'computeHistogram', 'contrastRandomization', 'meanThresh', 'mirror', 'resize', 'gradientSobel', 'detectSift', 'gaussianBlur', 'rotate'}\n"
     ]
    }
   ],
   "source": [
    "# We're going to arrange everything in a massive 2D list\n",
    "all_dfs_list = []\n",
    "s = set()\n",
    "\n",
    "for idx, d in enumerate(devices):    \n",
    "  # First, get the docker dfs\n",
    "  for df_index in range(10):\n",
    "    for _, row in docker_dfs[idx][df_index].iterrows():\n",
    "      for i in range(1, 11):\n",
    "        # TODO: fix this!! We should never have negative or zero results.\n",
    "        if row[f'Time Elapsed {i} (milliseconds)'] <= 0:\n",
    "          s.add(row['Benchmark'])\n",
    "          continue\n",
    "        all_dfs_list += [[\n",
    "          d,                 # Device\n",
    "          oss[idx],          # Operating System\n",
    "          'Docker',          # Condition\n",
    "          df_index + 1,      # Batch\n",
    "          i,                 # Run\n",
    "          df_index * 10 + i, # Trial\n",
    "          row['Benchmark'],\n",
    "          row['Source Video'],\n",
    "          row['Image Path'],\n",
    "          row['Kernel Width (# pixels)'],\n",
    "          row[f'Time Elapsed {i} (milliseconds)'],\n",
    "          math.log10(row[f'Time Elapsed {i} (milliseconds)']),\n",
    "          row[f'CPU usage {i} (% of CPU)'],\n",
    "          row[f'memory usage {i} (% of memory)']\n",
    "        ]]\n",
    "\n",
    "  # Second, get the native dfs\n",
    "  for df_index in range(10):\n",
    "    for _, row in native_dfs[idx][df_index].iterrows():\n",
    "      for i in range(1, 11):\n",
    "        # TODO: fix this!! We should never have negative or zero results.\n",
    "        if row[f'Time Elapsed {i} (milliseconds)'] <= 0:\n",
    "          s.add(row['Benchmark'])\n",
    "          continue\n",
    "        all_dfs_list += [[\n",
    "          d,                 # Device\n",
    "          oss[idx],          # Operating System\n",
    "          'Native',          # Condition\n",
    "          df_index + 1,      # Batch\n",
    "          i,                 # Run\n",
    "          df_index * 10 + i, # Trial\n",
    "          row['Benchmark'],\n",
    "          row['Source Video'],\n",
    "          row['Image Path'],\n",
    "          row['Kernel Width (# pixels)'],\n",
    "          row[f'Time Elapsed {i} (milliseconds)'],\n",
    "          math.log10(row[f'Time Elapsed {i} (milliseconds)']),\n",
    "          row[f'CPU usage {i} (% of CPU)'],\n",
    "          row[f'memory usage {i} (% of memory)']\n",
    "        ]]\n",
    "\n",
    "print('The following benchmarks have missing values because of negative numbers:', s)\n",
    "\n",
    "# Finally, make the dataframe to put the data\n",
    "all_df = pd.DataFrame(data=all_dfs_list, columns=[\n",
    "  'Device',\n",
    "  'Operating System',\n",
    "  'Condition',\n",
    "  'Batch',\n",
    "  'Run',\n",
    "  'Trial', # the overall trial (unique ID)\n",
    "  'Benchmark',\n",
    "  'Source Video',\n",
    "  'Image Path',\n",
    "  'Kernel Width (# pixels)',\n",
    "  'Runtime (milliseconds)',\n",
    "  'LogTime',\n",
    "  'CPU Usage (% of CPU)',\n",
    "  'Memory Usage (% of memory)'\n",
    "])"
   ]
  },
  {
   "cell_type": "code",
   "execution_count": 82,
   "metadata": {
    "colab": {
     "base_uri": "https://localhost:8080/",
     "height": 360
    },
    "id": "8qqLxAEfUgLA",
    "outputId": "5325ab93-7829-49d9-9a4c-235ee92f8128"
   },
   "outputs": [
    {
     "data": {
      "text/html": [
       "<div>\n",
       "<style scoped>\n",
       "    .dataframe tbody tr th:only-of-type {\n",
       "        vertical-align: middle;\n",
       "    }\n",
       "\n",
       "    .dataframe tbody tr th {\n",
       "        vertical-align: top;\n",
       "    }\n",
       "\n",
       "    .dataframe thead th {\n",
       "        text-align: right;\n",
       "    }\n",
       "</style>\n",
       "<table border=\"1\" class=\"dataframe\">\n",
       "  <thead>\n",
       "    <tr style=\"text-align: right;\">\n",
       "      <th></th>\n",
       "      <th>Device</th>\n",
       "      <th>Operating System</th>\n",
       "      <th>Condition</th>\n",
       "      <th>Batch</th>\n",
       "      <th>Run</th>\n",
       "      <th>Trial</th>\n",
       "      <th>Benchmark</th>\n",
       "      <th>Source Video</th>\n",
       "      <th>Image Path</th>\n",
       "      <th>Kernel Width (# pixels)</th>\n",
       "      <th>Runtime (milliseconds)</th>\n",
       "      <th>LogTime</th>\n",
       "      <th>CPU Usage (% of CPU)</th>\n",
       "      <th>Memory Usage (% of memory)</th>\n",
       "    </tr>\n",
       "  </thead>\n",
       "  <tbody>\n",
       "    <tr>\n",
       "      <th>0</th>\n",
       "      <td>Ubuntu 1</td>\n",
       "      <td>Ubuntu</td>\n",
       "      <td>Docker</td>\n",
       "      <td>1</td>\n",
       "      <td>1</td>\n",
       "      <td>1</td>\n",
       "      <td>measureMemoryUsage</td>\n",
       "      <td>Video2</td>\n",
       "      <td>./data/Video2/Gear5.png and 9 others</td>\n",
       "      <td>3</td>\n",
       "      <td>8.975744</td>\n",
       "      <td>0.953070</td>\n",
       "      <td>14.3</td>\n",
       "      <td>18.1</td>\n",
       "    </tr>\n",
       "    <tr>\n",
       "      <th>1</th>\n",
       "      <td>Ubuntu 1</td>\n",
       "      <td>Ubuntu</td>\n",
       "      <td>Docker</td>\n",
       "      <td>1</td>\n",
       "      <td>2</td>\n",
       "      <td>2</td>\n",
       "      <td>measureMemoryUsage</td>\n",
       "      <td>Video2</td>\n",
       "      <td>./data/Video2/Gear5.png and 9 others</td>\n",
       "      <td>3</td>\n",
       "      <td>8.476496</td>\n",
       "      <td>0.928216</td>\n",
       "      <td>14.3</td>\n",
       "      <td>19.9</td>\n",
       "    </tr>\n",
       "    <tr>\n",
       "      <th>2</th>\n",
       "      <td>Ubuntu 1</td>\n",
       "      <td>Ubuntu</td>\n",
       "      <td>Docker</td>\n",
       "      <td>1</td>\n",
       "      <td>3</td>\n",
       "      <td>3</td>\n",
       "      <td>measureMemoryUsage</td>\n",
       "      <td>Video2</td>\n",
       "      <td>./data/Video2/Gear5.png and 9 others</td>\n",
       "      <td>3</td>\n",
       "      <td>8.179665</td>\n",
       "      <td>0.912735</td>\n",
       "      <td>14.3</td>\n",
       "      <td>20.0</td>\n",
       "    </tr>\n",
       "    <tr>\n",
       "      <th>3</th>\n",
       "      <td>Ubuntu 1</td>\n",
       "      <td>Ubuntu</td>\n",
       "      <td>Docker</td>\n",
       "      <td>1</td>\n",
       "      <td>4</td>\n",
       "      <td>4</td>\n",
       "      <td>measureMemoryUsage</td>\n",
       "      <td>Video2</td>\n",
       "      <td>./data/Video2/Gear5.png and 9 others</td>\n",
       "      <td>3</td>\n",
       "      <td>8.441925</td>\n",
       "      <td>0.926441</td>\n",
       "      <td>0.0</td>\n",
       "      <td>19.9</td>\n",
       "    </tr>\n",
       "    <tr>\n",
       "      <th>4</th>\n",
       "      <td>Ubuntu 1</td>\n",
       "      <td>Ubuntu</td>\n",
       "      <td>Docker</td>\n",
       "      <td>1</td>\n",
       "      <td>5</td>\n",
       "      <td>5</td>\n",
       "      <td>measureMemoryUsage</td>\n",
       "      <td>Video2</td>\n",
       "      <td>./data/Video2/Gear5.png and 9 others</td>\n",
       "      <td>3</td>\n",
       "      <td>8.466005</td>\n",
       "      <td>0.927679</td>\n",
       "      <td>14.3</td>\n",
       "      <td>20.3</td>\n",
       "    </tr>\n",
       "  </tbody>\n",
       "</table>\n",
       "</div>"
      ],
      "text/plain": [
       "     Device Operating System Condition  Batch  Run  Trial           Benchmark  \\\n",
       "0  Ubuntu 1           Ubuntu    Docker      1    1      1  measureMemoryUsage   \n",
       "1  Ubuntu 1           Ubuntu    Docker      1    2      2  measureMemoryUsage   \n",
       "2  Ubuntu 1           Ubuntu    Docker      1    3      3  measureMemoryUsage   \n",
       "3  Ubuntu 1           Ubuntu    Docker      1    4      4  measureMemoryUsage   \n",
       "4  Ubuntu 1           Ubuntu    Docker      1    5      5  measureMemoryUsage   \n",
       "\n",
       "  Source Video                            Image Path  Kernel Width (# pixels)  \\\n",
       "0       Video2  ./data/Video2/Gear5.png and 9 others                        3   \n",
       "1       Video2  ./data/Video2/Gear5.png and 9 others                        3   \n",
       "2       Video2  ./data/Video2/Gear5.png and 9 others                        3   \n",
       "3       Video2  ./data/Video2/Gear5.png and 9 others                        3   \n",
       "4       Video2  ./data/Video2/Gear5.png and 9 others                        3   \n",
       "\n",
       "   Runtime (milliseconds)   LogTime  CPU Usage (% of CPU)  \\\n",
       "0                8.975744  0.953070                  14.3   \n",
       "1                8.476496  0.928216                  14.3   \n",
       "2                8.179665  0.912735                  14.3   \n",
       "3                8.441925  0.926441                   0.0   \n",
       "4                8.466005  0.927679                  14.3   \n",
       "\n",
       "   Memory Usage (% of memory)  \n",
       "0                        18.1  \n",
       "1                        19.9  \n",
       "2                        20.0  \n",
       "3                        19.9  \n",
       "4                        20.3  "
      ]
     },
     "execution_count": 82,
     "metadata": {},
     "output_type": "execute_result"
    }
   ],
   "source": [
    "all_df.head()"
   ]
  },
  {
   "cell_type": "markdown",
   "metadata": {},
   "source": [
    "# Time"
   ]
  },
  {
   "cell_type": "code",
   "execution_count": 83,
   "metadata": {},
   "outputs": [
    {
     "data": {
      "image/png": "[encoded data removed]"
     },
     "metadata": {},
     "output_type": "display_data"
    },
    {
     "data": {
      "image/png": "[encoded data removed]"
     },
     "metadata": {},
     "output_type": "display_data"
    }
   ],
   "source": [
    "%%R -i all_df\n",
    "\n",
    "# Sanitize dataframe column names\n",
    "library(janitor)\n",
    "all_df <- clean_names(all_df)\n",
    "\n",
    "all_df$condition <- factor(all_df$condition)\n",
    "all_df$benchmark <- factor(all_df$benchmark)\n",
    "\n",
    "# Use a QQ plot and histogram to check normality\n",
    "m = aov(log_time ~ condition*benchmark, data=all_df)\n",
    "qqnorm(residuals(m))\n",
    "qqline(residuals(m))\n",
    "hist(residuals(m))"
   ]
  },
  {
   "cell_type": "markdown",
   "metadata": {
    "id": "46TDctgt9xIU"
   },
   "source": [
    "# Anovas\n",
    "\n",
    "In this section, we perform a series of stats in order to determine whether the differences are significant for various comparisons.\n",
    "\n",
    "We have the following set of questions we want to ask:\n",
    "1. Two-way ANOVA with three independent variables: Docker vs Native, Benchmark, and OS. This probably won't show anything useful and it will probably hide a lot of valuable information, but it's a start.\n",
    "2. For each benchmark, do a two-way ANOVA with two variables: Docker vs Native and OS. This shows any interaction effect.\n",
    "3. For each benchmark and OS (that's `NUM_OSs * NUM_BENCHMARKS`—it's a lot of tests!), do a one-way ANOVA considering just Docker vs Native. This shows if there is a signficant difference for each column of the massive relative performance graph showing all benches/OSs."
   ]
  },
  {
   "cell_type": "code",
   "execution_count": 85,
   "metadata": {
    "colab": {
     "base_uri": "https://localhost:8080/"
    },
    "id": "gnd5gO4Z97iQ",
    "outputId": "8bca5785-3a74-41c2-eade-a1d6c5ceddf8"
   },
   "outputs": [
    {
     "name": "stderr",
     "output_type": "stream",
     "text": [
      "R[write to console]: Warning:\n",
      "R[write to console]:  Data is unbalanced (unequal N per group). Make sure you specified a well-considered value for the type argument to ezANOVA().\n",
      "\n",
      "R[write to console]: Warning:\n",
      "R[write to console]:  Collapsing data to cell means. *IF* the requested effects are a subset of the full design, you must use the \"within_full\" argument, else results may be inaccurate.\n",
      "\n",
      "R[write to console]: Warning:\n",
      "R[write to console]:  Using \"type==1\" is highly questionable when data are unbalanced and there is more than one variable. Hopefully you are doing this for demonstration purposes only!\n",
      "\n"
     ]
    },
    {
     "name": "stdout",
     "output_type": "stream",
     "text": [
      "$ANOVA\n",
      "                                Effect DFn DFd           F            p p<.05\n",
      "1                     operating_system   2   4    2.608695 1.883233e-01      \n",
      "2                            condition   1   4    2.304993 2.035708e-01      \n",
      "4                            benchmark  15  60 1963.792675 7.838572e-75     *\n",
      "3           operating_system:condition   2   4   19.411207 8.725246e-03     *\n",
      "5           operating_system:benchmark  30  60    3.949213 2.989714e-06     *\n",
      "6                  condition:benchmark  15  60   55.671220 1.806884e-29     *\n",
      "7 operating_system:condition:benchmark  30  60   13.107656 7.636298e-17     *\n",
      "         ges\n",
      "1 0.46838604\n",
      "2 0.01284726\n",
      "4 0.99163426\n",
      "3 0.17978945\n",
      "5 0.32283801\n",
      "6 0.45708306\n",
      "7 0.28389733\n",
      "\n"
     ]
    }
   ],
   "source": [
    "%%R -i all_df\n",
    "\n",
    "library(tidyverse) # Used for filtering out data irrelevant to a given test\n",
    "library(janitor) # Fix dataframe column names to sanitize\n",
    "# Libraries for the ezANOVA\n",
    "library(ez)\n",
    "library(apa)\n",
    "library(lsr)\n",
    "all_df <- clean_names(all_df)\n",
    "\n",
    "all_df$device <- factor(all_df$device)\n",
    "all_df$operating_system <- factor(all_df$operating_system)\n",
    "all_df$condition <- factor(all_df$condition)\n",
    "all_df$benchmark <- factor(all_df$benchmark)\n",
    "all_df$source_video <- factor(all_df$source_video)\n",
    "all_df$kernel_width_number_pixels <- factor(all_df$kernel_width_number_pixels)\n",
    "\n",
    "# print(head(all_df))\n",
    "\n",
    "# type=1 only if we removed stuff\n",
    "anoResults <- ezANOVA(data=all_df, type=1, dv=log_time, wid=device, within=c(condition, benchmark), between=operating_system)\n",
    "print(anoResults)"
   ]
  },
  {
   "cell_type": "markdown",
   "metadata": {},
   "source": [
    "## Significance of Docker on Each Benchmark\n",
    "\n",
    "The following does a TON of anovas (one for each comparison we want to make). The reason this is done as a crapload of separate anovas instead of a single beast is because we can only do a Tukey on a single variable, making it kinda useless for our use case. We want to know if, for each benchmark & os, docker changes performance. So, that's a lot of combinations and each one needs a test somehow!\n",
    "\n",
    "If somebody knows how to do this better, you are welcome to refactor this. Otherwise, this should calculate everything we need. It does not do all the checks it ought to regarding normality, etc, which may be a weakness."
   ]
  },
  {
   "cell_type": "code",
   "execution_count": 86,
   "metadata": {},
   "outputs": [
    {
     "name": "stdout",
     "output_type": "stream",
     "text": [
      "[1] \"------------------------------------------------------------\"\n",
      "[1] \"brightnessRandomization\"\n",
      "[1] \"------------------------------------------------------------\"\n",
      "[1] \"--------------------------Overall---------------------------\"\n"
     ]
    },
    {
     "name": "stderr",
     "output_type": "stream",
     "text": [
      "R[write to console]: Warning:\n",
      "R[write to console]:  Data is unbalanced (unequal N per group). Make sure you specified a well-considered value for the type argument to ezANOVA().\n",
      "\n",
      "R[write to console]: Warning:\n",
      "R[write to console]:  Collapsing data to cell means. *IF* the requested effects are a subset of the full design, you must use the \"within_full\" argument, else results may be inaccurate.\n",
      "\n",
      "R[write to console]: Warning:\n",
      "R[write to console]:  Using \"type==1\" is highly questionable when data are unbalanced and there is more than one variable. Hopefully you are doing this for demonstration purposes only!\n",
      "\n"
     ]
    },
    {
     "name": "stdout",
     "output_type": "stream",
     "text": [
      "$ANOVA\n",
      "                      Effect DFn DFd         F            p p<.05       ges\n",
      "1           operating_system   2   4  3.192122 0.1483782505       0.6029336\n",
      "2                  condition   1   4 90.498136 0.0006816127     * 0.5237786\n",
      "3 operating_system:condition   2   4 43.341991 0.0019456235     * 0.5130286\n",
      "\n",
      "[1] \"--------------------------OS:  macOS ---------------------------\"\n",
      "              Df Sum Sq Mean Sq F value   Pr(>F)    \n",
      "condition      1   3.65   3.654   32.79 1.15e-08 ***\n",
      "Residuals   2398 267.19   0.111                     \n",
      "---\n",
      "Signif. codes:  0 ‘***’ 0.001 ‘**’ 0.01 ‘*’ 0.05 ‘.’ 0.1 ‘ ’ 1\n",
      "[1] \"--------------------------OS:  Ubuntu ---------------------------\"\n",
      "              Df Sum Sq Mean Sq F value Pr(>F)  \n",
      "condition      1    0.5  0.4857    5.12 0.0237 *\n",
      "Residuals   3598  341.3  0.0949                 \n",
      "---\n",
      "Signif. codes:  0 ‘***’ 0.001 ‘**’ 0.01 ‘*’ 0.05 ‘.’ 0.1 ‘ ’ 1\n",
      "[1] \"--------------------------OS:  Windows ---------------------------\"\n",
      "              Df Sum Sq Mean Sq F value Pr(>F)    \n",
      "condition      1  49.91   49.91   542.6 <2e-16 ***\n",
      "Residuals   2398 220.57    0.09                   \n",
      "---\n",
      "Signif. codes:  0 ‘***’ 0.001 ‘**’ 0.01 ‘*’ 0.05 ‘.’ 0.1 ‘ ’ 1\n",
      "[1] \"------------------------------------------------------------\"\n",
      "[1] \"computeCanny\"\n",
      "[1] \"------------------------------------------------------------\"\n",
      "[1] \"--------------------------Overall---------------------------\"\n"
     ]
    },
    {
     "name": "stderr",
     "output_type": "stream",
     "text": [
      "R[write to console]: Warning:\n",
      "R[write to console]:  Data is unbalanced (unequal N per group). Make sure you specified a well-considered value for the type argument to ezANOVA().\n",
      "\n",
      "R[write to console]: Warning:\n",
      "R[write to console]:  Collapsing data to cell means. *IF* the requested effects are a subset of the full design, you must use the \"within_full\" argument, else results may be inaccurate.\n",
      "\n",
      "R[write to console]: Warning:\n",
      "R[write to console]:  Using \"type==1\" is highly questionable when data are unbalanced and there is more than one variable. Hopefully you are doing this for demonstration purposes only!\n",
      "\n"
     ]
    },
    {
     "name": "stdout",
     "output_type": "stream",
     "text": [
      "$ANOVA\n",
      "                      Effect DFn DFd        F         p p<.05        ges\n",
      "1           operating_system   2   4 1.182751 0.3948706       0.36806212\n",
      "2                  condition   1   4 3.817764 0.1224067       0.01422537\n",
      "3 operating_system:condition   2   4 3.567133 0.1290615       0.02625849\n",
      "\n",
      "[1] \"--------------------------OS:  macOS ---------------------------\"\n",
      "              Df Sum Sq Mean Sq F value Pr(>F)\n",
      "condition      1    0.1 0.08749   0.553  0.457\n",
      "Residuals   2398  379.7 0.15835               \n",
      "[1] \"--------------------------OS:  Ubuntu ---------------------------\"\n",
      "              Df Sum Sq Mean Sq F value Pr(>F)\n",
      "condition      1    0.0 0.00604   0.035  0.851\n",
      "Residuals   3598  612.5 0.17024               \n",
      "[1] \"--------------------------OS:  Windows ---------------------------\"\n",
      "              Df Sum Sq Mean Sq F value   Pr(>F)    \n",
      "condition      1    2.6   2.609   15.26 9.61e-05 ***\n",
      "Residuals   2398  410.0   0.171                     \n",
      "---\n",
      "Signif. codes:  0 ‘***’ 0.001 ‘**’ 0.01 ‘*’ 0.05 ‘.’ 0.1 ‘ ’ 1\n",
      "[1] \"------------------------------------------------------------\"\n",
      "[1] \"computeHistogram\"\n",
      "[1] \"------------------------------------------------------------\"\n",
      "[1] \"--------------------------Overall---------------------------\"\n"
     ]
    },
    {
     "name": "stderr",
     "output_type": "stream",
     "text": [
      "R[write to console]: Warning:\n",
      "R[write to console]:  Data is unbalanced (unequal N per group). Make sure you specified a well-considered value for the type argument to ezANOVA().\n",
      "\n",
      "R[write to console]: Warning:\n",
      "R[write to console]:  Collapsing data to cell means. *IF* the requested effects are a subset of the full design, you must use the \"within_full\" argument, else results may be inaccurate.\n",
      "\n",
      "R[write to console]: Warning:\n",
      "R[write to console]:  Using \"type==1\" is highly questionable when data are unbalanced and there is more than one variable. Hopefully you are doing this for demonstration purposes only!\n",
      "\n"
     ]
    },
    {
     "name": "stdout",
     "output_type": "stream",
     "text": [
      "$ANOVA\n",
      "                      Effect DFn DFd        F          p p<.05         ges\n",
      "1           operating_system   2   4 3.134403 0.15173304       0.600844395\n",
      "2                  condition   1   4 0.202740 0.67584366       0.001998321\n",
      "3 operating_system:condition   2   4 8.296263 0.03773121     * 0.140799642\n",
      "\n",
      "[1] \"--------------------------OS:  macOS ---------------------------\"\n",
      "              Df Sum Sq Mean Sq F value Pr(>F)    \n",
      "condition      1  17.93  17.926     492 <2e-16 ***\n",
      "Residuals   2398  87.37   0.036                   \n",
      "---\n",
      "Signif. codes:  0 ‘***’ 0.001 ‘**’ 0.01 ‘*’ 0.05 ‘.’ 0.1 ‘ ’ 1\n",
      "[1] \"--------------------------OS:  Ubuntu ---------------------------\"\n",
      "              Df Sum Sq Mean Sq F value   Pr(>F)    \n",
      "condition      1   1.48  1.4813   18.58 1.67e-05 ***\n",
      "Residuals   3598 286.82  0.0797                     \n",
      "---\n",
      "Signif. codes:  0 ‘***’ 0.001 ‘**’ 0.01 ‘*’ 0.05 ‘.’ 0.1 ‘ ’ 1\n",
      "[1] \"--------------------------OS:  Windows ---------------------------\"\n",
      "              Df Sum Sq Mean Sq F value   Pr(>F)    \n",
      "condition      1   2.49  2.4850   61.51 7.18e-15 ***\n",
      "Residuals   1957  79.06  0.0404                     \n",
      "---\n",
      "Signif. codes:  0 ‘***’ 0.001 ‘**’ 0.01 ‘*’ 0.05 ‘.’ 0.1 ‘ ’ 1\n",
      "[1] \"------------------------------------------------------------\"\n",
      "[1] \"contour\"\n",
      "[1] \"------------------------------------------------------------\"\n",
      "[1] \"--------------------------Overall---------------------------\"\n"
     ]
    },
    {
     "name": "stderr",
     "output_type": "stream",
     "text": [
      "R[write to console]: Warning:\n",
      "R[write to console]:  Data is unbalanced (unequal N per group). Make sure you specified a well-considered value for the type argument to ezANOVA().\n",
      "\n",
      "R[write to console]: Warning:\n",
      "R[write to console]:  Collapsing data to cell means. *IF* the requested effects are a subset of the full design, you must use the \"within_full\" argument, else results may be inaccurate.\n",
      "\n",
      "R[write to console]: Warning:\n",
      "R[write to console]:  Using \"type==1\" is highly questionable when data are unbalanced and there is more than one variable. Hopefully you are doing this for demonstration purposes only!\n",
      "\n"
     ]
    },
    {
     "name": "stdout",
     "output_type": "stream",
     "text": [
      "$ANOVA\n",
      "                      Effect DFn DFd         F          p p<.05       ges\n",
      "1           operating_system   2   4 0.7587402 0.52557947       0.2467324\n",
      "2                  condition   1   4 9.9581622 0.03432695     * 0.2537663\n",
      "3 operating_system:condition   2   4 2.9568490 0.16279783       0.1680171\n",
      "\n",
      "[1] \"--------------------------OS:  macOS ---------------------------\"\n",
      "              Df Sum Sq Mean Sq F value   Pr(>F)    \n",
      "condition      1   1.96  1.9589   23.28 1.49e-06 ***\n",
      "Residuals   2398 201.79  0.0841                     \n",
      "---\n",
      "Signif. codes:  0 ‘***’ 0.001 ‘**’ 0.01 ‘*’ 0.05 ‘.’ 0.1 ‘ ’ 1\n",
      "[1] \"--------------------------OS:  Ubuntu ---------------------------\"\n",
      "              Df Sum Sq Mean Sq F value   Pr(>F)    \n",
      "condition      1   0.75  0.7492    11.9 0.000566 ***\n",
      "Residuals   3598 226.43  0.0629                     \n",
      "---\n",
      "Signif. codes:  0 ‘***’ 0.001 ‘**’ 0.01 ‘*’ 0.05 ‘.’ 0.1 ‘ ’ 1\n",
      "[1] \"--------------------------OS:  Windows ---------------------------\"\n",
      "              Df Sum Sq Mean Sq F value Pr(>F)    \n",
      "condition      1  17.09  17.092   193.6 <2e-16 ***\n",
      "Residuals   2398 211.72   0.088                   \n",
      "---\n",
      "Signif. codes:  0 ‘***’ 0.001 ‘**’ 0.01 ‘*’ 0.05 ‘.’ 0.1 ‘ ’ 1\n",
      "[1] \"------------------------------------------------------------\"\n",
      "[1] \"contrastRandomization\"\n",
      "[1] \"------------------------------------------------------------\"\n",
      "[1] \"--------------------------Overall---------------------------\"\n"
     ]
    },
    {
     "name": "stderr",
     "output_type": "stream",
     "text": [
      "R[write to console]: Warning:\n",
      "R[write to console]:  Data is unbalanced (unequal N per group). Make sure you specified a well-considered value for the type argument to ezANOVA().\n",
      "\n",
      "R[write to console]: Warning:\n",
      "R[write to console]:  Collapsing data to cell means. *IF* the requested effects are a subset of the full design, you must use the \"within_full\" argument, else results may be inaccurate.\n",
      "\n",
      "R[write to console]: Warning:\n",
      "R[write to console]:  Using \"type==1\" is highly questionable when data are unbalanced and there is more than one variable. Hopefully you are doing this for demonstration purposes only!\n",
      "\n"
     ]
    },
    {
     "name": "stdout",
     "output_type": "stream",
     "text": [
      "$ANOVA\n",
      "                      Effect DFn DFd          F           p p<.05       ges\n",
      "1           operating_system   2   4   2.752891 0.177069689       0.5712779\n",
      "2                  condition   1   4  61.131477 0.001444388     * 0.3278609\n",
      "3 operating_system:condition   2   4 101.356899 0.000374439     * 0.6179586\n",
      "\n",
      "[1] \"--------------------------OS:  macOS ---------------------------\"\n",
      "              Df Sum Sq Mean Sq F value Pr(>F)   \n",
      "condition      1    1.4  1.4402   8.594 0.0034 **\n",
      "Residuals   2398  401.9  0.1676                  \n",
      "---\n",
      "Signif. codes:  0 ‘***’ 0.001 ‘**’ 0.01 ‘*’ 0.05 ‘.’ 0.1 ‘ ’ 1\n",
      "[1] \"--------------------------OS:  Ubuntu ---------------------------\"\n",
      "              Df Sum Sq Mean Sq F value Pr(>F)\n",
      "condition      1    0.0  0.0208   0.169  0.681\n",
      "Residuals   3598  443.4  0.1232               \n",
      "[1] \"--------------------------OS:  Windows ---------------------------\"\n",
      "              Df Sum Sq Mean Sq F value Pr(>F)    \n",
      "condition      1  118.0  117.97     821 <2e-16 ***\n",
      "Residuals   2374  341.1    0.14                   \n",
      "---\n",
      "Signif. codes:  0 ‘***’ 0.001 ‘**’ 0.01 ‘*’ 0.05 ‘.’ 0.1 ‘ ’ 1\n",
      "[1] \"------------------------------------------------------------\"\n",
      "[1] \"detectSift\"\n",
      "[1] \"------------------------------------------------------------\"\n",
      "[1] \"--------------------------Overall---------------------------\"\n"
     ]
    },
    {
     "name": "stderr",
     "output_type": "stream",
     "text": [
      "R[write to console]: Warning:\n",
      "R[write to console]:  Data is unbalanced (unequal N per group). Make sure you specified a well-considered value for the type argument to ezANOVA().\n",
      "\n",
      "R[write to console]: Warning:\n",
      "R[write to console]:  Collapsing data to cell means. *IF* the requested effects are a subset of the full design, you must use the \"within_full\" argument, else results may be inaccurate.\n",
      "\n",
      "R[write to console]: Warning:\n",
      "R[write to console]:  Using \"type==1\" is highly questionable when data are unbalanced and there is more than one variable. Hopefully you are doing this for demonstration purposes only!\n",
      "\n"
     ]
    },
    {
     "name": "stdout",
     "output_type": "stream",
     "text": [
      "$ANOVA\n",
      "                      Effect DFn DFd        F         p p<.05        ges\n",
      "1           operating_system   2   4 1.040519 0.4326777       0.32908869\n",
      "2                  condition   1   4 3.693046 0.1270183       0.05014675\n",
      "3 operating_system:condition   2   4 1.063954 0.4260842       0.02952164\n",
      "\n",
      "[1] \"--------------------------OS:  macOS ---------------------------\"\n",
      "              Df Sum Sq Mean Sq F value Pr(>F)\n",
      "condition      1    0.0  0.0170   0.127  0.722\n",
      "Residuals   2398  321.1  0.1339               \n",
      "[1] \"--------------------------OS:  Ubuntu ---------------------------\"\n",
      "              Df Sum Sq Mean Sq F value   Pr(>F)    \n",
      "condition      1      4   4.020   28.19 1.16e-07 ***\n",
      "Residuals   3598    513   0.143                     \n",
      "---\n",
      "Signif. codes:  0 ‘***’ 0.001 ‘**’ 0.01 ‘*’ 0.05 ‘.’ 0.1 ‘ ’ 1\n",
      "[1] \"--------------------------OS:  Windows ---------------------------\"\n",
      "              Df Sum Sq Mean Sq F value Pr(>F)\n",
      "condition      1    0.2  0.2494   1.783  0.182\n",
      "Residuals   2397  335.4  0.1399               \n",
      "[1] \"------------------------------------------------------------\"\n",
      "[1] \"detectSurf\"\n",
      "[1] \"------------------------------------------------------------\"\n",
      "[1] \"--------------------------Overall---------------------------\"\n"
     ]
    },
    {
     "name": "stderr",
     "output_type": "stream",
     "text": [
      "R[write to console]: Warning:\n",
      "R[write to console]:  Data is unbalanced (unequal N per group). Make sure you specified a well-considered value for the type argument to ezANOVA().\n",
      "\n",
      "R[write to console]: Warning:\n",
      "R[write to console]:  Collapsing data to cell means. *IF* the requested effects are a subset of the full design, you must use the \"within_full\" argument, else results may be inaccurate.\n",
      "\n",
      "R[write to console]: Warning:\n",
      "R[write to console]:  Using \"type==1\" is highly questionable when data are unbalanced and there is more than one variable. Hopefully you are doing this for demonstration purposes only!\n",
      "\n"
     ]
    },
    {
     "name": "stdout",
     "output_type": "stream",
     "text": [
      "$ANOVA\n",
      "                      Effect DFn DFd         F           p p<.05        ges\n",
      "1           operating_system   2   4  3.320587 0.141299564       0.62318312\n",
      "2                  condition   1   4 32.907859 0.004574257     * 0.03113244\n",
      "3 operating_system:condition   2   4 11.715748 0.021262826     * 0.02236787\n",
      "\n",
      "[1] \"--------------------------OS:  macOS ---------------------------\"\n",
      "              Df Sum Sq Mean Sq F value  Pr(>F)    \n",
      "condition      1    7.4   7.429   47.62 6.6e-12 ***\n",
      "Residuals   2398  374.1   0.156                    \n",
      "---\n",
      "Signif. codes:  0 ‘***’ 0.001 ‘**’ 0.01 ‘*’ 0.05 ‘.’ 0.1 ‘ ’ 1\n",
      "[1] \"--------------------------OS:  Ubuntu ---------------------------\"\n",
      "              Df Sum Sq Mean Sq F value Pr(>F)\n",
      "condition      1    0.0 0.02501   0.145  0.703\n",
      "Residuals   3598  618.8 0.17199               \n",
      "[1] \"--------------------------OS:  Windows ---------------------------\"\n",
      "              Df Sum Sq Mean Sq F value   Pr(>F)    \n",
      "condition      1    2.6  2.6224   18.33 1.93e-05 ***\n",
      "Residuals   2398  343.1  0.1431                     \n",
      "---\n",
      "Signif. codes:  0 ‘***’ 0.001 ‘**’ 0.01 ‘*’ 0.05 ‘.’ 0.1 ‘ ’ 1\n",
      "[1] \"------------------------------------------------------------\"\n",
      "[1] \"gaussianBlur\"\n",
      "[1] \"------------------------------------------------------------\"\n",
      "[1] \"--------------------------Overall---------------------------\"\n"
     ]
    },
    {
     "name": "stderr",
     "output_type": "stream",
     "text": [
      "R[write to console]: Warning:\n",
      "R[write to console]:  Data is unbalanced (unequal N per group). Make sure you specified a well-considered value for the type argument to ezANOVA().\n",
      "\n",
      "R[write to console]: Warning:\n",
      "R[write to console]:  Collapsing data to cell means. *IF* the requested effects are a subset of the full design, you must use the \"within_full\" argument, else results may be inaccurate.\n",
      "\n",
      "R[write to console]: Warning:\n",
      "R[write to console]:  Using \"type==1\" is highly questionable when data are unbalanced and there is more than one variable. Hopefully you are doing this for demonstration purposes only!\n",
      "\n"
     ]
    },
    {
     "name": "stdout",
     "output_type": "stream",
     "text": [
      "$ANOVA\n",
      "                      Effect DFn DFd          F            p p<.05        ges\n",
      "1           operating_system   2   4   2.617304 0.1876216638       0.56440252\n",
      "2                  condition   1   4  20.599538 0.0105077257     * 0.04850748\n",
      "3 operating_system:condition   2   4 118.295299 0.0002764157     * 0.36929296\n",
      "\n",
      "[1] \"--------------------------OS:  macOS ---------------------------\"\n",
      "              Df Sum Sq Mean Sq F value   Pr(>F)    \n",
      "condition      1   4.22   4.216   41.46 1.45e-10 ***\n",
      "Residuals   2398 243.83   0.102                     \n",
      "---\n",
      "Signif. codes:  0 ‘***’ 0.001 ‘**’ 0.01 ‘*’ 0.05 ‘.’ 0.1 ‘ ’ 1\n",
      "[1] \"--------------------------OS:  Ubuntu ---------------------------\"\n",
      "              Df Sum Sq Mean Sq F value Pr(>F)  \n",
      "condition      1    0.4  0.3769   3.171  0.075 .\n",
      "Residuals   3598  427.6  0.1188                 \n",
      "---\n",
      "Signif. codes:  0 ‘***’ 0.001 ‘**’ 0.01 ‘*’ 0.05 ‘.’ 0.1 ‘ ’ 1\n",
      "[1] \"--------------------------OS:  Windows ---------------------------\"\n",
      "              Df Sum Sq Mean Sq F value Pr(>F)    \n",
      "condition      1  33.01   33.01   437.3 <2e-16 ***\n",
      "Residuals   2019 152.42    0.08                   \n",
      "---\n",
      "Signif. codes:  0 ‘***’ 0.001 ‘**’ 0.01 ‘*’ 0.05 ‘.’ 0.1 ‘ ’ 1\n",
      "[1] \"------------------------------------------------------------\"\n",
      "[1] \"goodFeatures\"\n",
      "[1] \"------------------------------------------------------------\"\n",
      "[1] \"--------------------------Overall---------------------------\"\n"
     ]
    },
    {
     "name": "stderr",
     "output_type": "stream",
     "text": [
      "R[write to console]: Warning:\n",
      "R[write to console]:  Data is unbalanced (unequal N per group). Make sure you specified a well-considered value for the type argument to ezANOVA().\n",
      "\n",
      "R[write to console]: Warning:\n",
      "R[write to console]:  Collapsing data to cell means. *IF* the requested effects are a subset of the full design, you must use the \"within_full\" argument, else results may be inaccurate.\n",
      "\n",
      "R[write to console]: Warning:\n",
      "R[write to console]:  Using \"type==1\" is highly questionable when data are unbalanced and there is more than one variable. Hopefully you are doing this for demonstration purposes only!\n",
      "\n"
     ]
    },
    {
     "name": "stdout",
     "output_type": "stream",
     "text": [
      "$ANOVA\n",
      "                      Effect DFn DFd         F           p p<.05       ges\n",
      "1           operating_system   2   4  2.921639 0.165135532       0.5794736\n",
      "2                  condition   1   4 28.579048 0.005901709     * 0.2883578\n",
      "3 operating_system:condition   2   4 44.812239 0.001825329     * 0.5596105\n",
      "\n",
      "[1] \"--------------------------OS:  macOS ---------------------------\"\n",
      "              Df Sum Sq Mean Sq F value   Pr(>F)    \n",
      "condition      1   1.22  1.2241   11.62 0.000665 ***\n",
      "Residuals   2398 252.70  0.1054                     \n",
      "---\n",
      "Signif. codes:  0 ‘***’ 0.001 ‘**’ 0.01 ‘*’ 0.05 ‘.’ 0.1 ‘ ’ 1\n",
      "[1] \"--------------------------OS:  Ubuntu ---------------------------\"\n",
      "              Df Sum Sq Mean Sq F value Pr(>F)  \n",
      "condition      1    0.4  0.4193   3.687 0.0549 .\n",
      "Residuals   3598  409.2  0.1137                 \n",
      "---\n",
      "Signif. codes:  0 ‘***’ 0.001 ‘**’ 0.01 ‘*’ 0.05 ‘.’ 0.1 ‘ ’ 1\n",
      "[1] \"--------------------------OS:  Windows ---------------------------\"\n",
      "              Df Sum Sq Mean Sq F value Pr(>F)    \n",
      "condition      1  31.15  31.154   300.6 <2e-16 ***\n",
      "Residuals   2398 248.53   0.104                   \n",
      "---\n",
      "Signif. codes:  0 ‘***’ 0.001 ‘**’ 0.01 ‘*’ 0.05 ‘.’ 0.1 ‘ ’ 1\n",
      "[1] \"------------------------------------------------------------\"\n",
      "[1] \"gradientSobel\"\n",
      "[1] \"------------------------------------------------------------\"\n",
      "[1] \"--------------------------Overall---------------------------\"\n"
     ]
    },
    {
     "name": "stderr",
     "output_type": "stream",
     "text": [
      "R[write to console]: Warning:\n",
      "R[write to console]:  Data is unbalanced (unequal N per group). Make sure you specified a well-considered value for the type argument to ezANOVA().\n",
      "\n",
      "R[write to console]: Warning:\n",
      "R[write to console]:  Collapsing data to cell means. *IF* the requested effects are a subset of the full design, you must use the \"within_full\" argument, else results may be inaccurate.\n",
      "\n",
      "R[write to console]: Warning:\n",
      "R[write to console]:  Using \"type==1\" is highly questionable when data are unbalanced and there is more than one variable. Hopefully you are doing this for demonstration purposes only!\n",
      "\n"
     ]
    },
    {
     "name": "stdout",
     "output_type": "stream",
     "text": [
      "$ANOVA\n",
      "                      Effect DFn DFd        F           p p<.05       ges\n",
      "1           operating_system   2   4  4.98741 0.081927097       0.6968971\n",
      "2                  condition   1   4 46.44849 0.002422760     * 0.4752532\n",
      "3 operating_system:condition   2   4 45.26289 0.001790686     * 0.6383529\n",
      "\n",
      "[1] \"--------------------------OS:  macOS ---------------------------\"\n",
      "              Df Sum Sq Mean Sq F value  Pr(>F)    \n",
      "condition      1   0.82  0.8236   11.75 0.00062 ***\n",
      "Residuals   2398 168.12  0.0701                    \n",
      "---\n",
      "Signif. codes:  0 ‘***’ 0.001 ‘**’ 0.01 ‘*’ 0.05 ‘.’ 0.1 ‘ ’ 1\n",
      "[1] \"--------------------------OS:  Ubuntu ---------------------------\"\n",
      "              Df Sum Sq Mean Sq F value   Pr(>F)    \n",
      "condition      1   2.15  2.1518   27.54 1.63e-07 ***\n",
      "Residuals   3598 281.10  0.0781                     \n",
      "---\n",
      "Signif. codes:  0 ‘***’ 0.001 ‘**’ 0.01 ‘*’ 0.05 ‘.’ 0.1 ‘ ’ 1\n",
      "[1] \"--------------------------OS:  Windows ---------------------------\"\n",
      "              Df Sum Sq Mean Sq F value Pr(>F)    \n",
      "condition      1  56.78   56.78   525.6 <2e-16 ***\n",
      "Residuals   2362 255.18    0.11                   \n",
      "---\n",
      "Signif. codes:  0 ‘***’ 0.001 ‘**’ 0.01 ‘*’ 0.05 ‘.’ 0.1 ‘ ’ 1\n",
      "[1] \"------------------------------------------------------------\"\n",
      "[1] \"houghLine\"\n",
      "[1] \"------------------------------------------------------------\"\n",
      "[1] \"--------------------------Overall---------------------------\"\n"
     ]
    },
    {
     "name": "stderr",
     "output_type": "stream",
     "text": [
      "R[write to console]: Warning:\n",
      "R[write to console]:  Data is unbalanced (unequal N per group). Make sure you specified a well-considered value for the type argument to ezANOVA().\n",
      "\n",
      "R[write to console]: Warning:\n",
      "R[write to console]:  Collapsing data to cell means. *IF* the requested effects are a subset of the full design, you must use the \"within_full\" argument, else results may be inaccurate.\n",
      "\n",
      "R[write to console]: Warning:\n",
      "R[write to console]:  Using \"type==1\" is highly questionable when data are unbalanced and there is more than one variable. Hopefully you are doing this for demonstration purposes only!\n",
      "\n"
     ]
    },
    {
     "name": "stdout",
     "output_type": "stream",
     "text": [
      "$ANOVA\n",
      "                      Effect DFn DFd          F            p p<.05       ges\n",
      "1           operating_system   2   4   8.790791 3.435211e-02     * 0.8023282\n",
      "2                  condition   1   4 622.641354 1.531227e-05     * 0.9225835\n",
      "3 operating_system:condition   2   4  46.666606 1.688876e-03     * 0.6411096\n",
      "\n",
      "[1] \"--------------------------OS:  macOS ---------------------------\"\n",
      "              Df Sum Sq Mean Sq F value Pr(>F)    \n",
      "condition      1  23.46  23.465   203.7 <2e-16 ***\n",
      "Residuals   2398 276.23   0.115                   \n",
      "---\n",
      "Signif. codes:  0 ‘***’ 0.001 ‘**’ 0.01 ‘*’ 0.05 ‘.’ 0.1 ‘ ’ 1\n",
      "[1] \"--------------------------OS:  Ubuntu ---------------------------\"\n",
      "              Df Sum Sq Mean Sq F value Pr(>F)    \n",
      "condition      1  328.1   328.1    3557 <2e-16 ***\n",
      "Residuals   3598  331.9     0.1                   \n",
      "---\n",
      "Signif. codes:  0 ‘***’ 0.001 ‘**’ 0.01 ‘*’ 0.05 ‘.’ 0.1 ‘ ’ 1\n",
      "[1] \"--------------------------OS:  Windows ---------------------------\"\n",
      "              Df Sum Sq Mean Sq F value Pr(>F)    \n",
      "condition      1  262.0  261.98    2899 <2e-16 ***\n",
      "Residuals   2398  216.7    0.09                   \n",
      "---\n",
      "Signif. codes:  0 ‘***’ 0.001 ‘**’ 0.01 ‘*’ 0.05 ‘.’ 0.1 ‘ ’ 1\n",
      "[1] \"------------------------------------------------------------\"\n",
      "[1] \"meanThresh\"\n",
      "[1] \"------------------------------------------------------------\"\n",
      "[1] \"--------------------------Overall---------------------------\"\n"
     ]
    },
    {
     "name": "stderr",
     "output_type": "stream",
     "text": [
      "R[write to console]: Warning:\n",
      "R[write to console]:  Data is unbalanced (unequal N per group). Make sure you specified a well-considered value for the type argument to ezANOVA().\n",
      "\n",
      "R[write to console]: Warning:\n",
      "R[write to console]:  Collapsing data to cell means. *IF* the requested effects are a subset of the full design, you must use the \"within_full\" argument, else results may be inaccurate.\n",
      "\n",
      "R[write to console]: Warning:\n",
      "R[write to console]:  Using \"type==1\" is highly questionable when data are unbalanced and there is more than one variable. Hopefully you are doing this for demonstration purposes only!\n",
      "\n"
     ]
    },
    {
     "name": "stdout",
     "output_type": "stream",
     "text": [
      "$ANOVA\n",
      "                      Effect DFn DFd         F          p p<.05        ges\n",
      "1           operating_system   2   4  4.297522 0.10086039       0.65385150\n",
      "2                  condition   1   4  2.855833 0.16630828       0.07947076\n",
      "3 operating_system:condition   2   4 13.928455 0.01576568     * 0.45714483\n",
      "\n",
      "[1] \"--------------------------OS:  macOS ---------------------------\"\n",
      "              Df Sum Sq Mean Sq F value   Pr(>F)    \n",
      "condition      1   5.84   5.838   59.05 2.23e-14 ***\n",
      "Residuals   2398 237.12   0.099                     \n",
      "---\n",
      "Signif. codes:  0 ‘***’ 0.001 ‘**’ 0.01 ‘*’ 0.05 ‘.’ 0.1 ‘ ’ 1\n",
      "[1] \"--------------------------OS:  Ubuntu ---------------------------\"\n",
      "              Df Sum Sq Mean Sq F value   Pr(>F)    \n",
      "condition      1    2.1  2.1087   22.79 1.88e-06 ***\n",
      "Residuals   3598  332.9  0.0925                     \n",
      "---\n",
      "Signif. codes:  0 ‘***’ 0.001 ‘**’ 0.01 ‘*’ 0.05 ‘.’ 0.1 ‘ ’ 1\n",
      "[1] \"--------------------------OS:  Windows ---------------------------\"\n",
      "              Df Sum Sq Mean Sq F value   Pr(>F)    \n",
      "condition      1    4.6   4.598   42.18 1.02e-10 ***\n",
      "Residuals   2314  252.3   0.109                     \n",
      "---\n",
      "Signif. codes:  0 ‘***’ 0.001 ‘**’ 0.01 ‘*’ 0.05 ‘.’ 0.1 ‘ ’ 1\n",
      "[1] \"------------------------------------------------------------\"\n",
      "[1] \"measureMemoryUsage\"\n",
      "[1] \"------------------------------------------------------------\"\n",
      "[1] \"--------------------------Overall---------------------------\"\n"
     ]
    },
    {
     "name": "stderr",
     "output_type": "stream",
     "text": [
      "R[write to console]: Warning:\n",
      "R[write to console]:  Data is unbalanced (unequal N per group). Make sure you specified a well-considered value for the type argument to ezANOVA().\n",
      "\n",
      "R[write to console]: Warning:\n",
      "R[write to console]:  Collapsing data to cell means. *IF* the requested effects are a subset of the full design, you must use the \"within_full\" argument, else results may be inaccurate.\n",
      "\n",
      "R[write to console]: Warning:\n",
      "R[write to console]:  Using \"type==1\" is highly questionable when data are unbalanced and there is more than one variable. Hopefully you are doing this for demonstration purposes only!\n",
      "\n"
     ]
    },
    {
     "name": "stdout",
     "output_type": "stream",
     "text": [
      "$ANOVA\n",
      "                      Effect DFn DFd         F           p p<.05       ges\n",
      "1           operating_system   2   4  2.149548 0.232304917       0.5099524\n",
      "2                  condition   1   4 53.011285 0.001890951     * 0.2963548\n",
      "3 operating_system:condition   2   4 40.146044 0.002251886     * 0.3894676\n",
      "\n",
      "[1] \"--------------------------OS:  macOS ---------------------------\"\n",
      "              Df Sum Sq Mean Sq F value Pr(>F)    \n",
      "condition      1  18.05  18.049   240.7 <2e-16 ***\n",
      "Residuals   2398 179.83   0.075                   \n",
      "---\n",
      "Signif. codes:  0 ‘***’ 0.001 ‘**’ 0.01 ‘*’ 0.05 ‘.’ 0.1 ‘ ’ 1\n",
      "[1] \"--------------------------OS:  Ubuntu ---------------------------\"\n",
      "              Df Sum Sq Mean Sq F value  Pr(>F)   \n",
      "condition      1   0.94  0.9373   10.73 0.00106 **\n",
      "Residuals   3598 314.21  0.0873                   \n",
      "---\n",
      "Signif. codes:  0 ‘***’ 0.001 ‘**’ 0.01 ‘*’ 0.05 ‘.’ 0.1 ‘ ’ 1\n",
      "[1] \"--------------------------OS:  Windows ---------------------------\"\n",
      "              Df Sum Sq Mean Sq F value Pr(>F)    \n",
      "condition      1  13.12  13.120   168.4 <2e-16 ***\n",
      "Residuals   2398 186.88   0.078                   \n",
      "---\n",
      "Signif. codes:  0 ‘***’ 0.001 ‘**’ 0.01 ‘*’ 0.05 ‘.’ 0.1 ‘ ’ 1\n",
      "[1] \"------------------------------------------------------------\"\n",
      "[1] \"mirror\"\n",
      "[1] \"------------------------------------------------------------\"\n",
      "[1] \"--------------------------Overall---------------------------\"\n"
     ]
    },
    {
     "name": "stderr",
     "output_type": "stream",
     "text": [
      "R[write to console]: Warning:\n",
      "R[write to console]:  Data is unbalanced (unequal N per group). Make sure you specified a well-considered value for the type argument to ezANOVA().\n",
      "\n",
      "R[write to console]: Warning:\n",
      "R[write to console]:  Collapsing data to cell means. *IF* the requested effects are a subset of the full design, you must use the \"within_full\" argument, else results may be inaccurate.\n",
      "\n",
      "R[write to console]: Warning:\n",
      "R[write to console]:  Using \"type==1\" is highly questionable when data are unbalanced and there is more than one variable. Hopefully you are doing this for demonstration purposes only!\n",
      "\n"
     ]
    },
    {
     "name": "stdout",
     "output_type": "stream",
     "text": [
      "$ANOVA\n",
      "                      Effect DFn DFd         F          p p<.05       ges\n",
      "1           operating_system   2   4  3.511673 0.13167191       0.5671458\n",
      "2                  condition   1   4 18.318665 0.01284734     * 0.5375104\n",
      "3 operating_system:condition   2   4  7.011009 0.04926213     * 0.4707914\n",
      "\n",
      "[1] \"--------------------------OS:  macOS ---------------------------\"\n",
      "              Df Sum Sq Mean Sq F value   Pr(>F)    \n",
      "condition      1    1.8  1.7966   19.88 8.62e-06 ***\n",
      "Residuals   2398  216.7  0.0904                     \n",
      "---\n",
      "Signif. codes:  0 ‘***’ 0.001 ‘**’ 0.01 ‘*’ 0.05 ‘.’ 0.1 ‘ ’ 1\n",
      "[1] \"--------------------------OS:  Ubuntu ---------------------------\"\n",
      "              Df Sum Sq Mean Sq F value Pr(>F)    \n",
      "condition      1  108.6  108.62   923.9 <2e-16 ***\n",
      "Residuals   3598  423.0    0.12                   \n",
      "---\n",
      "Signif. codes:  0 ‘***’ 0.001 ‘**’ 0.01 ‘*’ 0.05 ‘.’ 0.1 ‘ ’ 1\n",
      "[1] \"--------------------------OS:  Windows ---------------------------\"\n",
      "              Df Sum Sq Mean Sq F value Pr(>F)    \n",
      "condition      1  249.0  249.00    2989 <2e-16 ***\n",
      "Residuals   1898  158.1    0.08                   \n",
      "---\n",
      "Signif. codes:  0 ‘***’ 0.001 ‘**’ 0.01 ‘*’ 0.05 ‘.’ 0.1 ‘ ’ 1\n",
      "[1] \"------------------------------------------------------------\"\n",
      "[1] \"resize\"\n",
      "[1] \"------------------------------------------------------------\"\n",
      "[1] \"--------------------------Overall---------------------------\"\n"
     ]
    },
    {
     "name": "stderr",
     "output_type": "stream",
     "text": [
      "R[write to console]: Warning:\n",
      "R[write to console]:  Data is unbalanced (unequal N per group). Make sure you specified a well-considered value for the type argument to ezANOVA().\n",
      "\n",
      "R[write to console]: Warning:\n",
      "R[write to console]:  Collapsing data to cell means. *IF* the requested effects are a subset of the full design, you must use the \"within_full\" argument, else results may be inaccurate.\n",
      "\n",
      "R[write to console]: Warning:\n",
      "R[write to console]:  Using \"type==1\" is highly questionable when data are unbalanced and there is more than one variable. Hopefully you are doing this for demonstration purposes only!\n",
      "\n"
     ]
    },
    {
     "name": "stdout",
     "output_type": "stream",
     "text": [
      "$ANOVA\n",
      "                      Effect DFn DFd         F           p p<.05        ges\n",
      "1           operating_system   2   4  1.060435 0.427064826       0.34032678\n",
      "2                  condition   1   4  3.698164 0.126823847       0.02435352\n",
      "3 operating_system:condition   2   4 45.363206 0.001783109     * 0.37979657\n",
      "\n",
      "[1] \"--------------------------OS:  macOS ---------------------------\"\n",
      "              Df Sum Sq Mean Sq F value Pr(>F)    \n",
      "condition      1  37.23   37.23     865 <2e-16 ***\n",
      "Residuals   2398 103.21    0.04                   \n",
      "---\n",
      "Signif. codes:  0 ‘***’ 0.001 ‘**’ 0.01 ‘*’ 0.05 ‘.’ 0.1 ‘ ’ 1\n",
      "[1] \"--------------------------OS:  Ubuntu ---------------------------\"\n",
      "              Df Sum Sq Mean Sq F value Pr(>F)\n",
      "condition      1   0.09 0.08669   1.454  0.228\n",
      "Residuals   3598 214.57 0.05963               \n",
      "[1] \"--------------------------OS:  Windows ---------------------------\"\n",
      "              Df Sum Sq Mean Sq F value Pr(>F)    \n",
      "condition      1    9.3   9.299   147.2 <2e-16 ***\n",
      "Residuals   2196  138.7   0.063                   \n",
      "---\n",
      "Signif. codes:  0 ‘***’ 0.001 ‘**’ 0.01 ‘*’ 0.05 ‘.’ 0.1 ‘ ’ 1\n",
      "[1] \"------------------------------------------------------------\"\n",
      "[1] \"rotate\"\n",
      "[1] \"------------------------------------------------------------\"\n",
      "[1] \"--------------------------Overall---------------------------\"\n"
     ]
    },
    {
     "name": "stderr",
     "output_type": "stream",
     "text": [
      "R[write to console]: Warning:\n",
      "R[write to console]:  Data is unbalanced (unequal N per group). Make sure you specified a well-considered value for the type argument to ezANOVA().\n",
      "\n",
      "R[write to console]: Warning:\n",
      "R[write to console]:  Collapsing data to cell means. *IF* the requested effects are a subset of the full design, you must use the \"within_full\" argument, else results may be inaccurate.\n",
      "\n",
      "R[write to console]: Warning:\n",
      "R[write to console]:  Using \"type==1\" is highly questionable when data are unbalanced and there is more than one variable. Hopefully you are doing this for demonstration purposes only!\n",
      "\n"
     ]
    },
    {
     "name": "stdout",
     "output_type": "stream",
     "text": [
      "$ANOVA\n",
      "                      Effect DFn DFd         F           p p<.05       ges\n",
      "1           operating_system   2   4  2.808999 0.172961948       0.5517538\n",
      "2                  condition   1   4 17.828879 0.013451410     * 0.3552007\n",
      "3 operating_system:condition   2   4 20.174957 0.008134566     * 0.5549061\n",
      "\n",
      "[1] \"--------------------------OS:  macOS ---------------------------\"\n",
      "              Df Sum Sq Mean Sq F value Pr(>F)    \n",
      "condition      1   8.92   8.920   83.56 <2e-16 ***\n",
      "Residuals   2397 255.88   0.107                   \n",
      "---\n",
      "Signif. codes:  0 ‘***’ 0.001 ‘**’ 0.01 ‘*’ 0.05 ‘.’ 0.1 ‘ ’ 1\n",
      "[1] \"--------------------------OS:  Ubuntu ---------------------------\"\n",
      "              Df Sum Sq Mean Sq F value Pr(>F)    \n",
      "condition      1   14.1   14.10   155.8 <2e-16 ***\n",
      "Residuals   3598  325.5    0.09                   \n",
      "---\n",
      "Signif. codes:  0 ‘***’ 0.001 ‘**’ 0.01 ‘*’ 0.05 ‘.’ 0.1 ‘ ’ 1\n",
      "[1] \"--------------------------OS:  Windows ---------------------------\"\n",
      "              Df Sum Sq Mean Sq F value Pr(>F)    \n",
      "condition      1  58.64   58.64   718.3 <2e-16 ***\n",
      "Residuals   2032 165.89    0.08                   \n",
      "---\n",
      "Signif. codes:  0 ‘***’ 0.001 ‘**’ 0.01 ‘*’ 0.05 ‘.’ 0.1 ‘ ’ 1\n"
     ]
    }
   ],
   "source": [
    "%%R -i all_df\n",
    "\n",
    "library(janitor) # Fix dataframe column names to sanitize\n",
    "all_df <- clean_names(all_df)\n",
    "\n",
    "library(multcomp)\n",
    "all_df$condition <- factor(all_df$condition)\n",
    "all_df$benchmark <- factor(all_df$benchmark)\n",
    "all_df$device <- factor(all_df$device)\n",
    "all_df$operating_system <- factor(all_df$operating_system)\n",
    "\n",
    "for (b in levels(all_df$benchmark)) {\n",
    "    bench_df <- filter(all_df, benchmark == b)\n",
    "\n",
    "    print(\"------------------------------------------------------------\")\n",
    "    print(b)\n",
    "    print(\"------------------------------------------------------------\")\n",
    "    print(\"--------------------------Overall---------------------------\")\n",
    "    print(ezANOVA(data=bench_df, type=1, dv=log_time, wid=device, within=condition, between=operating_system))\n",
    "#     m = aov(log_time ~ condition * operating_system, data=bench_df)\n",
    "#     print(summary(m))\n",
    "#     print(summary(glht(m, linfct = mcp(condition=\"Tukey\")), test=adjusted(type=\"holm\")))\n",
    "    \n",
    "    # For each OS, we do individual ANOVAs for each benchmark\n",
    "    for (os in levels(individual$operating_system)) {\n",
    "        print(paste(\"--------------------------OS: \", os, \"---------------------------\"))\n",
    "        os_bench_df <- filter(bench_df, operating_system == os)\n",
    "        m = aov(log_time ~ condition, data=os_bench_df)\n",
    "        print(summary(m))\n",
    "#         print(ezANOVA(data=os_bench_df, type=1, dv=log_time, wid=device, within=condition))\n",
    "    }\n",
    "}\n",
    "\n"
   ]
  },
  {
   "cell_type": "code",
   "execution_count": null,
   "metadata": {},
   "outputs": [],
   "source": []
  }
 ],
 "metadata": {
  "colab": {
   "collapsed_sections": [
    "Hy7-9D1IReun"
   ],
   "name": "docker-results.ipynb",
   "provenance": [],
   "toc_visible": true
  },
  "kernelspec": {
   "display_name": "Python 3",
   "language": "python",
   "name": "python3"
  },
  "language_info": {
   "codemirror_mode": {
    "name": "ipython",
    "version": 3
   },
   "file_extension": ".py",
   "mimetype": "text/x-python",
   "name": "python",
   "nbconvert_exporter": "python",
   "pygments_lexer": "ipython3",
   "version": "3.9.0"
  }
 },
 "nbformat": 4,
 "nbformat_minor": 4
}
